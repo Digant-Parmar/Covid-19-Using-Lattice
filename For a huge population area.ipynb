{
 "cells": [
  {
   "cell_type": "code",
   "execution_count": 141,
   "metadata": {},
   "outputs": [],
   "source": [
    "import networkx as nx\n",
    "import numpy as np\n",
    "import matplotlib.pyplot as plt\n",
    "from random import randrange\n",
    "from pylab import savefig"
   ]
  },
  {
   "cell_type": "code",
   "execution_count": 142,
   "metadata": {},
   "outputs": [],
   "source": [
    "#Consider the size of lattice to be 100*100\n",
    "m,n=100,100\n",
    "# Let the number of people be 150\n",
    "people=150    \n",
    "# Let the maximum about of time for the disess to be 20 after that the person dies\n",
    "L=20      \n",
    "# discrete time-steps\n",
    "MAX=350     \n",
    "# total number of times the people moves\n",
    "steps=70 \n",
    "\n",
    "sick_ar = np.zeros(MAX+1)\n",
    "    \n",
    "sick, dead, iterate=0,0,0     \n",
    "#For  the neighbors\n",
    "neighbors=[]     \n",
    "\n",
    "# Genetating a 2d lattice\n",
    "Lat=nx.grid_2d_graph(m,n)      \n",
    "nodes=[]\n",
    "walkers={}\n",
    "for i in Lat.nodes():\n",
    "    nodes.append(i)\n",
    "    walkers[i]=[]\n",
    "    "
   ]
  },
  {
   "cell_type": "code",
   "execution_count": 143,
   "metadata": {},
   "outputs": [],
   "source": [
    "# the number of infected people at a node at any temporal point \n",
    "nx.set_node_attributes(Lat,0,'infected')      \n",
    "#the walkers at a node\n",
    "nx.set_node_attributes(Lat,walkers,'walkers')         \n"
   ]
  },
  {
   "cell_type": "code",
   "execution_count": 144,
   "metadata": {},
   "outputs": [],
   "source": [
    "x,y=np.zeros(people), np.zeros(people)    # walker coordinates\n",
    "infect=np.zeros(people)              # walker current health status\n",
    "lifespan=L*np.ones(people)           \n",
    "total_sick=np.zeros(MAX)      # time series of sick walkers\n",
    "#ts_dead=np.zeros(MAX)\n",
    "totat_iter_count=np.zeros(MAX)       \n",
    "highest_iter=0                 # The max count of iter "
   ]
  },
  {
   "cell_type": "code",
   "execution_count": 145,
   "metadata": {},
   "outputs": [],
   "source": [
    "# The following function is used to initialize the walker a the lattice nodes\n",
    "\n",
    "def initialize():            \n",
    "    for i in range(people):             \n",
    "        \n",
    "        ( x[i] , y[i] )= nodes[randrange(len(nodes))]\n",
    "        Lat.nodes[ (x[i],y[i]) ]['walkers'].append(i)       # add this walker at node\n",
    "    \n",
    "      "
   ]
  },
  {
   "cell_type": "code",
   "execution_count": 146,
   "metadata": {},
   "outputs": [],
   "source": [
    "#  The bellow function does the work of killing the persion if the liftime is over\n",
    "def kill(a):        \n",
    "    infect[a]=2\n",
    "    global sick,dead\n",
    "    sick-=1\n",
    "    dead+=1\n",
    "                \n",
    "    Lat.nodes[(x[a],y[a])]['walkers'].remove(a)\n",
    "\n",
    "    \n",
    "   "
   ]
  },
  {
   "cell_type": "code",
   "execution_count": 147,
   "metadata": {},
   "outputs": [],
   "source": [
    "# The following function is used to infect a random walker a given node \n",
    "def infect_random():       \n",
    "    \n",
    "    while(True):\n",
    "        tx,ty= nodes[randrange(len(nodes))]     \n",
    "        temp=Lat.nodes[(tx,ty)]['walkers']         \n",
    "        if (len(temp)!=0):\n",
    "            break\n",
    "    \n",
    "    first_case=temp[randrange(len(temp))]   \n",
    "    infect[first_case]=1\n",
    "    Lat.nodes[(tx,ty)]['infected']+=1\n",
    "    global sick\n",
    "    sick=1\n",
    "\n",
    "     "
   ]
  },
  {
   "cell_type": "code",
   "execution_count": 148,
   "metadata": {},
   "outputs": [],
   "source": [
    "# Move or say walk to the neighboring node\n",
    "def walk(a):        \n",
    "    for i in Lat.neighbors( (x[a],y[a]) ):\n",
    "                neighbors.append(i)\n",
    "    \n",
    "    # remove a walker from node!\n",
    "    Lat.nodes[(x[a],y[a])]['walkers'].remove(a)               \n",
    "    ( x[a] , y[a] )=neighbors[randrange(len(neighbors))]\n",
    "    # add him to the new node!\n",
    "    Lat.nodes[(x[a],y[a])]['walkers'].append(a)\n"
   ]
  },
  {
   "cell_type": "code",
   "execution_count": 149,
   "metadata": {},
   "outputs": [],
   "source": [
    "def actions(a):\n",
    "    \n",
    "    if infect[a]<2:     #still alive\n",
    "            walk(a)\n",
    "            \n",
    "    if infect[a]==1:    #sick\n",
    "        lifespan[a]-=1\n",
    "        Lat.nodes[(x[a],y[a])]['infected']+=1           # so this guy is infected!\n",
    "            \n",
    "        if lifespan[a]<=0:  #go die!\n",
    "            kill(a)\n",
    "                \n",
    "        for j in Lat.nodes[(x[a],y[a])]['walkers'] :        ##!\n",
    "            if infect[j]==0 and j!=a: # healthy guy\n",
    "                infect[j]=1     # infect him!\n",
    "                \n",
    "                global sick\n",
    "                sick+=1\n",
    "                Lat.nodes[(x[a],y[a])]['infected']+=1\n",
    "         "
   ]
  },
  {
   "cell_type": "code",
   "execution_count": 150,
   "metadata": {},
   "outputs": [],
   "source": [
    "# Resets all the attribute\n",
    "def reset():\n",
    "    global sick,dead,iterate\n",
    "    sick,dead,iterate=0,0,0\n",
    "    \n"
   ]
  },
  {
   "cell_type": "code",
   "execution_count": 151,
   "metadata": {},
   "outputs": [],
   "source": [
    "# Creating the scenario\n",
    "\n",
    "while(steps>0):        \n",
    "    initialize()\n",
    "    infect_random()         \n",
    "\n",
    "    while(sick>0) and (iterate < MAX):\n",
    "        for i in range(0,people):\n",
    "            actions(i)\n",
    "            neighbors.clear()\n",
    "            \n",
    "            \n",
    "        total_sick[iterate]+=sick\n",
    "        \n",
    "        totat_iter_count[iterate]+=1\n",
    "        iterate+=1 \n",
    "        \n",
    "    if (iterate>highest_iter) :\n",
    "        highest_iter=iterate\n",
    "\n",
    "  \n",
    "    reset()\n",
    "    steps-=1"
   ]
  },
  {
   "cell_type": "code",
   "execution_count": 152,
   "metadata": {},
   "outputs": [
    {
     "data": {
      "image/png": "[encoded data removed]",
      "text/plain": [
       "<Figure size 432x288 with 1 Axes>"
      ]
     },
     "metadata": {
      "needs_background": "light"
     },
     "output_type": "display_data"
    }
   ],
   "source": [
    "for i in range(iter_high):\n",
    "    ts_sick[i]/=ts_ctr[i]\n",
    "    \n",
    "plt.plot(range(0,iter_high+10),ts_sick[0:iter_high+10])\n",
    "plt.ylabel('Infected')\n",
    "plt.xlabel('Discrete Time steps')\n",
    "plt.show()"
   ]
  },
  {
   "cell_type": "code",
   "execution_count": null,
   "metadata": {},
   "outputs": [],
   "source": []
  },
  {
   "cell_type": "code",
   "execution_count": null,
   "metadata": {},
   "outputs": [],
   "source": []
  }
 ],
 "metadata": {
  "kernelspec": {
   "display_name": "Python 3",
   "language": "python",
   "name": "python3"
  },
  "language_info": {
   "codemirror_mode": {
    "name": "ipython",
    "version": 3
   },
   "file_extension": ".py",
   "mimetype": "text/x-python",
   "name": "python",
   "nbconvert_exporter": "python",
   "pygments_lexer": "ipython3",
   "version": "3.8.5"
  }
 },
 "nbformat": 4,
 "nbformat_minor": 4
}
